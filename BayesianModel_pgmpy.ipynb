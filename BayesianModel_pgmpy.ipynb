{
 "cells": [
  {
   "cell_type": "markdown",
   "metadata": {},
   "source": [
    "# pgmpy를 사용한 베이즈 정리 적용\n",
    "### dss pg 433~435\n",
    "~~~\n",
    "pgmpy 패키지는 베이즈 정리에 적용하는 BayesianModel 클래스를 제공한다. \n",
    "베이즈 정리를 적용하려면 조건부확률을 구현하는 TabularCPD 클래스를 사용하여 사전확률과 가능도를 구현해야 한다.\n",
    "~~~\n",
    "**TabularCPD**\n",
    "* variable: 확률변수의 이름 문자열\n",
    "* variable_card: 확률변수가 가질 수 있는 경우의 수\n",
    "* value: 조건부확률 배열. 하나의 열(column)이 동일 조건을 뜻하므로 하나의 열의 확률 합은 1이여야 한다.\n",
    "* evidence: 조건이 되는 확률변수의 이름 문자열 list\n",
    "* evidence_card: 조건이 되는 확률변수가 가질 수 있는 경우의 수의 list\n",
    "\n",
    "~~~\n",
    "TabularCPD는 원래 조건부확률을 구현하기 위한 것이지만 evidence=None, evidence_card=None으로 인수를 주면 일반적인 확률도 구현할 수 있다.\n",
    "~~~"
   ]
  },
  {
   "cell_type": "markdown",
   "metadata": {},
   "source": [
    "### #인문학적인 내용 설명\n",
    "~~~\n",
    "제약회사에서 환자가 특정한 병에 걸린지 확인하는 시약 생산.\n",
    "그 약 test 결과 99% 확률로 양성 반응을 보임.\n",
    "검사 결과가 양성 반응이 나왔을 때 해당 환자가 실제로 병에 걸렸을 확률은?\n",
    "~~~"
   ]
  },
  {
   "cell_type": "markdown",
   "metadata": {},
   "source": [
    "### 1. 확률변수 X를 이용하여 아래 내용들 정의\n",
    "~~~ \n",
    "병에 걸렸을 사전확률: P(D)=P(X=1)\n",
    "병에 걸리지 않았을 사전확률: P(D 여사건)=P(X=0)\n",
    "~~~"
   ]
  },
  {
   "cell_type": "code",
   "execution_count": 6,
   "metadata": {},
   "outputs": [],
   "source": [
    "from pgmpy.factors.discrete import TabularCPD\n",
    "import numpy as np"
   ]
  },
  {
   "cell_type": "code",
   "execution_count": 7,
   "metadata": {},
   "outputs": [
    {
     "name": "stdout",
     "output_type": "stream",
     "text": [
      "+------+-------+\n",
      "| X(0) | 0.998 |\n",
      "+------+-------+\n",
      "| X(1) | 0.002 |\n",
      "+------+-------+\n"
     ]
    }
   ],
   "source": [
    "cpd_X=TabularCPD('X', 2, [[1-0.002], [0.002]])\n",
    "print(cpd_X)"
   ]
  },
  {
   "cell_type": "markdown",
   "metadata": {},
   "source": [
    "### #인문학적인 내용 설명\n",
    "* X(0): 전체에서 병에 걸리지 않은 사람의 비율\n",
    "* X(1): 전체에서 병에 걸린 사람의 비율 (걸린 사람이 0.2%인 희귀병이다: X(1)=0.002)"
   ]
  },
  {
   "cell_type": "markdown",
   "metadata": {},
   "source": [
    "### 2. 조건부확률 P(Y|X)를 구현\n",
    "~~~\n",
    "양성 반응이 나올 확률: P(S)=P(Y=1)\n",
    "음성 반응이 나올 확률: P(S 여사건)=P(Y=0)\n",
    "위의 내용을 나타내는 확률변수 Y를 정의한다.\n",
    "~~~\n",
    "**확률변수 Y의 확률을 베이지 묘형에 넣을 때는 TabularCPD를 사용한 조검부 확률(P(Y|X)) 형태로 넣어야 한다.**\n",
    "~~~\n",
    "아래 코드로 조건부확률 P(Y|X)를 구현\n",
    "~~~"
   ]
  },
  {
   "cell_type": "code",
   "execution_count": 9,
   "metadata": {},
   "outputs": [
    {
     "name": "stdout",
     "output_type": "stream",
     "text": [
      "+------+------+------+\n",
      "| X    | X(0) | X(1) |\n",
      "+------+------+------+\n",
      "| Y(0) | 0.95 | 0.01 |\n",
      "+------+------+------+\n",
      "| Y(1) | 0.05 | 0.99 |\n",
      "+------+------+------+\n"
     ]
    }
   ],
   "source": [
    "cpd_Y_on_X=TabularCPD('Y', 2, np.array([[0.95, 0.01], [0.05, 0.99]]), evidence=['X'], evidence_card=[2])\n",
    "print(cpd_Y_on_X)"
   ]
  },
  {
   "cell_type": "markdown",
   "metadata": {},
   "source": [
    "### #인문학적인 내용 설명\n",
    "* X(0)& Y(1)= 0.05: 병에 걸리지 않은 사람에게 시약 검사 시 양성반은 (False Positive)가 나타날 확률\n",
    "* X(1)& Y(1)= 0.99: 병에 걸린 사람이 양성이 나올 확률\n",
    "~~~\n",
    "Y(1)은 양성이 나올 경우를 말하는 것이고 X(1)은 병에 걸릴 확률을 의미한다. \n",
    "TabularCPD('Y', 2, np.array([[0.95, 0.01], [0.05, 0.99]]), evidence=['X'], evidence_card=[2])\n",
    "위의 코드는 X의 지정 값이 참일 때 Y의 지정 결과가 나올 확률을 찾는 함수이다. P(Y|X)\n",
    "각각 array를 Y(0)일 때를 한 list로 묶고 Y(1)을 다른 list로 묶는다\n",
    "~~~"
   ]
  },
  {
   "cell_type": "markdown",
   "metadata": {},
   "source": [
    "### 3. 확률 모형인 BayesianModel 클래스 객체를 만들기\n",
    "~~~\n",
    "확률변수들이 어떻게 결합되어 있는지 나타내는 확률 모형\n",
    "~~~\n",
    "**BayesianModel (variable)**\n",
    "\n",
    "* variables: 확률 모형이 포함하는 확률변수 이름 문자열의 list\n",
    "\n",
    "**BayesianModel은 다음과 같은 메서드를 지원한다.**\n",
    "\n",
    "* add_cpds(): 조건부확률 푸가\n",
    "* check_model(): 모형이 정상적인지 확인 True면 정상"
   ]
  },
  {
   "cell_type": "code",
   "execution_count": 10,
   "metadata": {},
   "outputs": [],
   "source": [
    "from pgmpy.models import BayesianModel"
   ]
  },
  {
   "cell_type": "code",
   "execution_count": 20,
   "metadata": {},
   "outputs": [
    {
     "data": {
      "text/plain": [
       "True"
      ]
     },
     "execution_count": 20,
     "metadata": {},
     "output_type": "execute_result"
    }
   ],
   "source": [
    "model1=BayesianModel([('X', 'Y')])\n",
    "model1.add_cpds(cpd_X, cpd_Y_on_X)\n",
    "model1.check_model()"
   ]
  },
  {
   "cell_type": "markdown",
   "metadata": {},
   "source": [
    "### 4. VariableElimination(변수 제거법)을 사용한 추정\n",
    "~~~\n",
    "BayesianModel는 변수 제거법을 사용한 추정을 제공\n",
    "1. VariableElimination 클래스로 추정 객체 (reference)를 만든다.\n",
    "2. query() 메서드를 사용하면 사후확률을 계산\n",
    "~~~\n",
    "**query (variables, evidences)**\n",
    "* variables: 사후확률을 계산할 확률변수 이름 list\n",
    "* evidences: 조건이 되는 확률변수의 값을 나타내는 dictionary\n",
    "~~~\n",
    "여기에서는 pgmpy 패키지를 이용하여 베이즈 정리를 적용할 수 있다는 것만 알면 된다.\n",
    "자세한 내용은 추후 확률적 그래프 모형 (Probabilistic Graphical Model)에서 다룬다\n",
    "~~~"
   ]
  },
  {
   "cell_type": "code",
   "execution_count": 21,
   "metadata": {},
   "outputs": [],
   "source": [
    "from pgmpy.inference import VariableElimination"
   ]
  },
  {
   "cell_type": "code",
   "execution_count": 22,
   "metadata": {},
   "outputs": [
    {
     "name": "stderr",
     "output_type": "stream",
     "text": [
      "Finding Elimination Order: : : 0it [00:00, ?it/s]\n",
      "0it [00:00, ?it/s]"
     ]
    },
    {
     "name": "stdout",
     "output_type": "stream",
     "text": [
      "+------+----------+\n",
      "| X    |   phi(X) |\n",
      "+======+==========+\n",
      "| X(0) |   0.9618 |\n",
      "+------+----------+\n",
      "| X(1) |   0.0382 |\n",
      "+------+----------+\n"
     ]
    },
    {
     "name": "stderr",
     "output_type": "stream",
     "text": [
      "\n"
     ]
    }
   ],
   "source": [
    "inference=VariableElimination(model1)\n",
    "posterior=inference.query(['X'], evidence={'Y': 1})\n",
    "print(posterior)"
   ]
  },
  {
   "cell_type": "markdown",
   "metadata": {},
   "source": [
    "### #인문학적인 내용 설명\n",
    "~~~\n",
    "X(1)=0.0382은 양성 반응이 나왔을 때 병에 결릴 확률 (Y(1)이 참이라는 가정 하에 X(1)일 확률)을 의미한다\n",
    "X(0)=0.9618은 양성 반응이 나왔을 때 병에 안 결릴 확률\n",
    "~~~"
   ]
  },
  {
   "cell_type": "code",
   "execution_count": 19,
   "metadata": {},
   "outputs": [
    {
     "ename": "TypeError",
     "evalue": "'DiscreteFactor' object is not subscriptable",
     "output_type": "error",
     "traceback": [
      "\u001b[1;31m---------------------------------------------------------------------------\u001b[0m",
      "\u001b[1;31mTypeError\u001b[0m                                 Traceback (most recent call last)",
      "\u001b[1;32m<ipython-input-19-d26757d7fbf6>\u001b[0m in \u001b[0;36m<module>\u001b[1;34m\u001b[0m\n\u001b[1;32m----> 1\u001b[1;33m \u001b[0mprint\u001b[0m\u001b[1;33m(\u001b[0m\u001b[0mposterior\u001b[0m\u001b[1;33m[\u001b[0m\u001b[1;34m'Y'\u001b[0m\u001b[1;33m]\u001b[0m\u001b[1;33m)\u001b[0m\u001b[1;33m\u001b[0m\u001b[1;33m\u001b[0m\u001b[0m\n\u001b[0m",
      "\u001b[1;31mTypeError\u001b[0m: 'DiscreteFactor' object is not subscriptable"
     ]
    }
   ],
   "source": [
    "print(posterior['Y'])"
   ]
  },
  {
   "cell_type": "code",
   "execution_count": null,
   "metadata": {},
   "outputs": [],
   "source": []
  }
 ],
 "metadata": {
  "kernelspec": {
   "display_name": "Python 3",
   "language": "python",
   "name": "python3"
  },
  "language_info": {
   "codemirror_mode": {
    "name": "ipython",
    "version": 3
   },
   "file_extension": ".py",
   "mimetype": "text/x-python",
   "name": "python",
   "nbconvert_exporter": "python",
   "pygments_lexer": "ipython3",
   "version": "3.7.6"
  }
 },
 "nbformat": 4,
 "nbformat_minor": 4
}
